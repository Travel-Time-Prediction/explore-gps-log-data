{
 "cells": [
  {
   "cell_type": "code",
   "execution_count": 5,
   "source": [
    "from model.lstm import LSTM\r\n",
    "from model.optimizer import config_optimizer\r\n",
    "from dataset.preparetion import prepare_data\r\n",
    "from dataset.normalize import Normalizer\r\n",
    "from dataset.travel_time_dataset import TravelTimeDataset"
   ],
   "outputs": [],
   "metadata": {}
  },
  {
   "cell_type": "code",
   "execution_count": 6,
   "source": [
    "cfg = {\r\n",
    "    'data': {\r\n",
    "        'window_size': 20,\r\n",
    "        'train_split_size': 0.8,\r\n",
    "    },\r\n",
    "    'plots': {\r\n",
    "        'show_plots': True,\r\n",
    "        'xticks_interval': 90,\r\n",
    "        'color_actual': '#001f3f',\r\n",
    "        'color_train': '#3D9970',\r\n",
    "        'color_val': '#0074D9',\r\n",
    "    },\r\n",
    "    'model': {\r\n",
    "        'input_size': 1,\r\n",
    "        'num_lstm_layers': 2,\r\n",
    "        'lstm_size': 32,\r\n",
    "        'dropout': 0.2,\r\n",
    "    },\r\n",
    "    'optimizer': {\r\n",
    "        'name': 'adam',\r\n",
    "        'lr': 0.01,\r\n",
    "        'beta': (0.9, 0.98),\r\n",
    "        'eps': 1e-9,\r\n",
    "        'weight_decay': 0,\r\n",
    "    },\r\n",
    "    'scheduler': {\r\n",
    "        'step_size': 40,\r\n",
    "    },\r\n",
    "    'train': {\r\n",
    "        'device': 'cpu',\r\n",
    "        'batch_size': 64,\r\n",
    "        'num_epoch': 100,\r\n",
    "    }\r\n",
    "}"
   ],
   "outputs": [],
   "metadata": {}
  },
  {
   "cell_type": "code",
   "execution_count": null,
   "source": [
    "def download_data(cfg, plot=False):\r\n",
    "    print('download_data')"
   ],
   "outputs": [],
   "metadata": {}
  }
 ],
 "metadata": {
  "orig_nbformat": 4,
  "language_info": {
   "name": "python",
   "version": "3.7.11",
   "mimetype": "text/x-python",
   "codemirror_mode": {
    "name": "ipython",
    "version": 3
   },
   "pygments_lexer": "ipython3",
   "nbconvert_exporter": "python",
   "file_extension": ".py"
  },
  "kernelspec": {
   "name": "python3",
   "display_name": "Python 3.7.11 64-bit ('travel-time': conda)"
  },
  "interpreter": {
   "hash": "04d543e0e8e8528b063992bec98d43cf6e129cdbff59fe1bf1811a8862f8b7d0"
  }
 },
 "nbformat": 4,
 "nbformat_minor": 2
}