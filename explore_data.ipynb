{
 "cells": [
  {
   "cell_type": "code",
   "execution_count": 1,
   "source": [
    "import os\r\n",
    "import pandas as pd\r\n",
    "import numpy as np\r\n",
    "import folium\r\n",
    "\r\n",
    "from tqdm.auto import tqdm\r\n",
    "from folium import plugins"
   ],
   "outputs": [],
   "metadata": {}
  },
  {
   "cell_type": "code",
   "execution_count": 2,
   "source": [
    "gps_data_dir = 'E:/data/gps'\r\n",
    "road_data_dir = 'E:/data/road'"
   ],
   "outputs": [],
   "metadata": {}
  },
  {
   "cell_type": "code",
   "execution_count": 3,
   "source": [
    "tqdm.pandas(desc='working : ')"
   ],
   "outputs": [],
   "metadata": {}
  },
  {
   "cell_type": "markdown",
   "source": [
    "# Explore gps data"
   ],
   "metadata": {}
  },
  {
   "cell_type": "markdown",
   "source": [
    "## find interesting road for use in project"
   ],
   "metadata": {}
  },
  {
   "cell_type": "markdown",
   "source": [
    "### load GPS data\r\n",
    "- **Columns**\r\n",
    "  - time_stamp => เป็นวันเวลา\r\n",
    "  - unit_id => เป็น id ของรถ\r\n",
    "  - lat => เป็นค่า latitude\r\n",
    "  - lon => เป็นค่า longitude\r\n",
    "  - speed => เป็นค่าความเร็ว หน่วยเป็น km/h\r\n",
    "  - unit_type => เป็นชนิดของรถ\r\n",
    "    - 1 = รถโดยสารประจำทาง\r\n",
    "    - 3 = รถโดยสารไม่ประจำทาง\r\n",
    "    - 4 = รถโดยสารส่วนบุคคล\r\n",
    "    - 5,8,9  = รถบรรทุกส่วนบุคคล\r\n",
    "    - 6,7 = รถบรรทุกไม่ประจำทาง"
   ],
   "metadata": {}
  },
  {
   "cell_type": "code",
   "execution_count": 18,
   "source": [
    "# df_gps = pd.read_csv(gps_data_dir + '/2019/2019-03/2019-03-01_00.zip')\r\n",
    "# df_gps.head()"
   ],
   "outputs": [
    {
     "output_type": "execute_result",
     "data": {
      "text/plain": [
       "            time_stamp                      unit_id        lat         lon  \\\n",
       "0  2019-03-01 00:00:35  0390002000000000000EE085491  13.702763  100.581581   \n",
       "1  2019-03-01 00:00:26  015000500000863835028323652   9.970495   98.642845   \n",
       "2  2019-03-01 00:00:32  0390002000000000000EE107549  19.950153   99.236827   \n",
       "3  2019-03-01 00:00:28  005000600000864507030191018  14.076360  100.520670   \n",
       "4  2019-03-01 00:00:33  025000600000359857080832934  12.516950   99.978370   \n",
       "\n",
       "   speed  unit_type  \n",
       "0      2        7.0  \n",
       "1      0        3.0  \n",
       "2      3        8.0  \n",
       "3      0        8.0  \n",
       "4      0        7.0  "
      ],
      "text/html": [
       "<div>\n",
       "<style scoped>\n",
       "    .dataframe tbody tr th:only-of-type {\n",
       "        vertical-align: middle;\n",
       "    }\n",
       "\n",
       "    .dataframe tbody tr th {\n",
       "        vertical-align: top;\n",
       "    }\n",
       "\n",
       "    .dataframe thead th {\n",
       "        text-align: right;\n",
       "    }\n",
       "</style>\n",
       "<table border=\"1\" class=\"dataframe\">\n",
       "  <thead>\n",
       "    <tr style=\"text-align: right;\">\n",
       "      <th></th>\n",
       "      <th>time_stamp</th>\n",
       "      <th>unit_id</th>\n",
       "      <th>lat</th>\n",
       "      <th>lon</th>\n",
       "      <th>speed</th>\n",
       "      <th>unit_type</th>\n",
       "    </tr>\n",
       "  </thead>\n",
       "  <tbody>\n",
       "    <tr>\n",
       "      <th>0</th>\n",
       "      <td>2019-03-01 00:00:35</td>\n",
       "      <td>0390002000000000000EE085491</td>\n",
       "      <td>13.702763</td>\n",
       "      <td>100.581581</td>\n",
       "      <td>2</td>\n",
       "      <td>7.0</td>\n",
       "    </tr>\n",
       "    <tr>\n",
       "      <th>1</th>\n",
       "      <td>2019-03-01 00:00:26</td>\n",
       "      <td>015000500000863835028323652</td>\n",
       "      <td>9.970495</td>\n",
       "      <td>98.642845</td>\n",
       "      <td>0</td>\n",
       "      <td>3.0</td>\n",
       "    </tr>\n",
       "    <tr>\n",
       "      <th>2</th>\n",
       "      <td>2019-03-01 00:00:32</td>\n",
       "      <td>0390002000000000000EE107549</td>\n",
       "      <td>19.950153</td>\n",
       "      <td>99.236827</td>\n",
       "      <td>3</td>\n",
       "      <td>8.0</td>\n",
       "    </tr>\n",
       "    <tr>\n",
       "      <th>3</th>\n",
       "      <td>2019-03-01 00:00:28</td>\n",
       "      <td>005000600000864507030191018</td>\n",
       "      <td>14.076360</td>\n",
       "      <td>100.520670</td>\n",
       "      <td>0</td>\n",
       "      <td>8.0</td>\n",
       "    </tr>\n",
       "    <tr>\n",
       "      <th>4</th>\n",
       "      <td>2019-03-01 00:00:33</td>\n",
       "      <td>025000600000359857080832934</td>\n",
       "      <td>12.516950</td>\n",
       "      <td>99.978370</td>\n",
       "      <td>0</td>\n",
       "      <td>7.0</td>\n",
       "    </tr>\n",
       "  </tbody>\n",
       "</table>\n",
       "</div>"
      ]
     },
     "metadata": {},
     "execution_count": 18
    }
   ],
   "metadata": {}
  },
  {
   "cell_type": "markdown",
   "source": [
    "### load road data\r\n",
    "- **Columns**\r\n",
    "  - rid => หมายเลขสายถนน\r\n",
    "  - rd => เลขถนน\r\n",
    "  - km\r\n",
    "  - ptype => ชนิดหลัก\r\n",
    "  - lat, lon => ข้อมูลพิกัดแบบละเอียด\r\n",
    "  - latx, lonx => ข้อมูลพิกัด ทศนิยม 3 ตำแหน่ง\r\n",
    "  - angle => องศาของถนน "
   ],
   "metadata": {}
  },
  {
   "cell_type": "code",
   "execution_count": 4,
   "source": [
    "# df_road = pd.read_csv(road_data_dir + '/roaddb.csv')\r\n",
    "# df_road.head()"
   ],
   "outputs": [
    {
     "output_type": "execute_result",
     "data": {
      "text/plain": [
       "   rid    rd   km ptype        lat         lon    latx     lonx  angle\n",
       "0    1  3003  0.0  100m  14.492856  100.066108  14.493  100.066    180\n",
       "1    1  3003  0.1  100m  14.493738  100.066290  14.494  100.066    180\n",
       "2    1  3003  0.2  100m  14.494619  100.066476  14.495  100.066    179\n",
       "3    1  3003  0.3  100m  14.495501  100.066658  14.496  100.067    179\n",
       "4    1  3003  0.4  100m  14.496383  100.066839  14.496  100.067    179"
      ],
      "text/html": [
       "<div>\n",
       "<style scoped>\n",
       "    .dataframe tbody tr th:only-of-type {\n",
       "        vertical-align: middle;\n",
       "    }\n",
       "\n",
       "    .dataframe tbody tr th {\n",
       "        vertical-align: top;\n",
       "    }\n",
       "\n",
       "    .dataframe thead th {\n",
       "        text-align: right;\n",
       "    }\n",
       "</style>\n",
       "<table border=\"1\" class=\"dataframe\">\n",
       "  <thead>\n",
       "    <tr style=\"text-align: right;\">\n",
       "      <th></th>\n",
       "      <th>rid</th>\n",
       "      <th>rd</th>\n",
       "      <th>km</th>\n",
       "      <th>ptype</th>\n",
       "      <th>lat</th>\n",
       "      <th>lon</th>\n",
       "      <th>latx</th>\n",
       "      <th>lonx</th>\n",
       "      <th>angle</th>\n",
       "    </tr>\n",
       "  </thead>\n",
       "  <tbody>\n",
       "    <tr>\n",
       "      <th>0</th>\n",
       "      <td>1</td>\n",
       "      <td>3003</td>\n",
       "      <td>0.0</td>\n",
       "      <td>100m</td>\n",
       "      <td>14.492856</td>\n",
       "      <td>100.066108</td>\n",
       "      <td>14.493</td>\n",
       "      <td>100.066</td>\n",
       "      <td>180</td>\n",
       "    </tr>\n",
       "    <tr>\n",
       "      <th>1</th>\n",
       "      <td>1</td>\n",
       "      <td>3003</td>\n",
       "      <td>0.1</td>\n",
       "      <td>100m</td>\n",
       "      <td>14.493738</td>\n",
       "      <td>100.066290</td>\n",
       "      <td>14.494</td>\n",
       "      <td>100.066</td>\n",
       "      <td>180</td>\n",
       "    </tr>\n",
       "    <tr>\n",
       "      <th>2</th>\n",
       "      <td>1</td>\n",
       "      <td>3003</td>\n",
       "      <td>0.2</td>\n",
       "      <td>100m</td>\n",
       "      <td>14.494619</td>\n",
       "      <td>100.066476</td>\n",
       "      <td>14.495</td>\n",
       "      <td>100.066</td>\n",
       "      <td>179</td>\n",
       "    </tr>\n",
       "    <tr>\n",
       "      <th>3</th>\n",
       "      <td>1</td>\n",
       "      <td>3003</td>\n",
       "      <td>0.3</td>\n",
       "      <td>100m</td>\n",
       "      <td>14.495501</td>\n",
       "      <td>100.066658</td>\n",
       "      <td>14.496</td>\n",
       "      <td>100.067</td>\n",
       "      <td>179</td>\n",
       "    </tr>\n",
       "    <tr>\n",
       "      <th>4</th>\n",
       "      <td>1</td>\n",
       "      <td>3003</td>\n",
       "      <td>0.4</td>\n",
       "      <td>100m</td>\n",
       "      <td>14.496383</td>\n",
       "      <td>100.066839</td>\n",
       "      <td>14.496</td>\n",
       "      <td>100.067</td>\n",
       "      <td>179</td>\n",
       "    </tr>\n",
       "  </tbody>\n",
       "</table>\n",
       "</div>"
      ]
     },
     "metadata": {},
     "execution_count": 4
    }
   ],
   "metadata": {}
  },
  {
   "cell_type": "markdown",
   "source": [
    "### find interesting road"
   ],
   "metadata": {}
  },
  {
   "cell_type": "code",
   "execution_count": 12,
   "source": [
    "def get_road_dict(df_road):\r\n",
    "    road_list = []\r\n",
    "    df_road['coor'] = df_road.progress_apply(lambda row: f\"{row['latx']:.3f}, {row['lonx']:.3f}\", axis='columns')\r\n",
    "    for rd in df_road['rd'].unique():\r\n",
    "        coors = df_road[df_road['rd'] == rd]['coor'].to_list()\r\n",
    "        road_dict = {\r\n",
    "            'rd': rd,\r\n",
    "            'coor_list': coors,\r\n",
    "        }\r\n",
    "        road_list.append(road_dict)\r\n",
    "    return road_list\r\n",
    "\r\n",
    "def get_road_interest(df_gps, road_list):\r\n",
    "    df_gps = df_gps[df_gps['unit_type'].isin([6, 7])].reset_index(drop=True)\r\n",
    "    df_gps = df_gps.drop_duplicates(subset=['unit_id']).reset_index(drop=True)\r\n",
    "    df_gps['coor'] = df_gps.progress_apply(lambda row: f\"{row['lat']:.3f}, {row['lon']:.3f}\", axis='columns')\r\n",
    "    for idx in range(len(road_list)):\r\n",
    "        count_car = len(df_gps[df_gps['coor'].isin(road_list[idx]['coor_list'])])\r\n",
    "        road_list[idx]['count_car'] = count_car\r\n",
    "\r\n",
    "    return road_list\r\n",
    "\r\n",
    "def find_road_interest():\r\n",
    "    df_road = pd.read_csv(road_data_dir + '/roaddb.csv')\r\n",
    "    df_gps = pd.read_csv(gps_data_dir + '/2019/2019-03/2019-03-01_00.zip')\r\n",
    "\r\n",
    "    road_list = get_road_dict(df_road)\r\n",
    "    road_list = get_road_interest(df_gps, road_list)\r\n",
    "\r\n",
    "    # sort 'count_car' from highest to lowest.\r\n",
    "    road_list.sort(key=sort_count, reverse=True)\r\n",
    "\r\n",
    "    # clear data in memory\r\n",
    "    del df_road\r\n",
    "    del df_gps\r\n",
    "\r\n",
    "    return road_list\r\n",
    "\r\n",
    "def sort_count(d):\r\n",
    "    \"\"\"\r\n",
    "    function get value for sort list\r\n",
    "    \"\"\"\r\n",
    "    return d['count_car']"
   ],
   "outputs": [],
   "metadata": {}
  },
  {
   "cell_type": "code",
   "execution_count": 13,
   "source": [
    "road_list = find_road_interest()"
   ],
   "outputs": [
    {
     "output_type": "stream",
     "name": "stderr",
     "text": [
      "working : 100%|██████████| 1093655/1093655 [00:11<00:00, 93481.34it/s]\n",
      "working : 100%|██████████| 97254/97254 [00:01<00:00, 93987.05it/s]\n"
     ]
    }
   ],
   "metadata": {}
  },
  {
   "cell_type": "code",
   "execution_count": 14,
   "source": [
    "# show top 10 road number have trucks\r\n",
    "for idx in range(10):\r\n",
    "    print(f\"{road_list[idx]['rd']} : {road_list[idx]['count_car']}\")"
   ],
   "outputs": [
    {
     "output_type": "stream",
     "name": "stdout",
     "text": [
      "4 : 2568\n",
      "2 : 2267\n",
      "1 : 2226\n",
      "41 : 1022\n",
      "7 : 974\n",
      "9 : 946\n",
      "304 : 778\n",
      "32 : 726\n",
      "3902 : 718\n",
      "3901 : 717\n"
     ]
    }
   ],
   "metadata": {}
  }
 ],
 "metadata": {
  "orig_nbformat": 4,
  "language_info": {
   "name": "python",
   "version": "3.7.11",
   "mimetype": "text/x-python",
   "codemirror_mode": {
    "name": "ipython",
    "version": 3
   },
   "pygments_lexer": "ipython3",
   "nbconvert_exporter": "python",
   "file_extension": ".py"
  },
  "kernelspec": {
   "name": "python3",
   "display_name": "Python 3.7.11 64-bit ('travel-time': conda)"
  },
  "interpreter": {
   "hash": "04d543e0e8e8528b063992bec98d43cf6e129cdbff59fe1bf1811a8862f8b7d0"
  }
 },
 "nbformat": 4,
 "nbformat_minor": 2
}