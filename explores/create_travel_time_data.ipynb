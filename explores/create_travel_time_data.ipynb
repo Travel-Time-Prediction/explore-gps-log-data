{
 "cells": [
  {
   "cell_type": "code",
   "execution_count": 1,
   "source": [
    "import os\r\n",
    "import pandas as pd\r\n",
    "\r\n",
    "from tqdm.auto import tqdm\r\n",
    "from utils.utils import load_gps_data\r\n",
    "from utils.find_travel_time import FindTravelTime"
   ],
   "outputs": [],
   "metadata": {}
  },
  {
   "cell_type": "code",
   "execution_count": 2,
   "source": [
    "import warnings\r\n",
    "warnings.filterwarnings(\"ignore\")"
   ],
   "outputs": [],
   "metadata": {}
  },
  {
   "cell_type": "code",
   "execution_count": 3,
   "source": [
    "gps_data_dir = 'E:/data/gps'\r\n",
    "save_path = ['E:/data/start_stop', 'E:/data/stop_start'] # change for your directory to save start_stop and stop_start datafrfame"
   ],
   "outputs": [],
   "metadata": {}
  },
  {
   "cell_type": "code",
   "execution_count": 4,
   "source": [
    "def init_data_dict(roads_list):\r\n",
    "    data_dict = {}\r\n",
    "    for road in roads_list:\r\n",
    "        data_dict[f\"{road}_start_stop\"] = []\r\n",
    "        data_dict[f\"{road}_stop_start\"] = []\r\n",
    "\r\n",
    "    return data_dict\r\n",
    "\r\n",
    "def init_save_directory(save_path, roads_list):\r\n",
    "    if not os.path.exists(os.path.join(save_path[0])):\r\n",
    "        os.mkdir(save_path[0])\r\n",
    "    if not os.path.exists(os.path.join(save_path[1])):\r\n",
    "        os.mkdir(save_path[1])\r\n",
    "\r\n",
    "    for road in roads_list:\r\n",
    "        if not os.path.exists(os.path.join(save_path[0], f\"{road}\")):\r\n",
    "            os.mkdir(os.path.join(save_path[0], f\"{road}\"))\r\n",
    "        if not os.path.exists(os.path.join(save_path[1], f\"{road}\")):\r\n",
    "            os.mkdir(os.path.join(save_path[1], f\"{road}\"))\r\n",
    "\r\n",
    "def create_travel_time(gps_data_dir, save_path, month_start, month_stop, day_load=1):\r\n",
    "    # init for load gps data function\r\n",
    "    year = '2019'\r\n",
    "    roads_list = [1, 2, 4, 7, 9, 32, 35, 41, 304, 331]\r\n",
    "    days_count_list = [31, 28, 31, 30, 31, 30, 31, 31, 30, 31, 30, 31]\r\n",
    "    months_list = [f\"{i:02d}\" for i in range(month_start, month_stop + 1)]\r\n",
    "    \r\n",
    "    # init for this function\r\n",
    "    amount_day = 0\r\n",
    "    \r\n",
    "    # init data dict for save dataframe\r\n",
    "    data_dict = init_data_dict(roads_list)\r\n",
    "    init_save_directory(save_path, roads_list)\r\n",
    "    \r\n",
    "    for month in months_list:\r\n",
    "        print(f\"============= [month {month}] =============\")\r\n",
    "        days_list = [f\"{i:02d}\" for i in range(1, days_count_list[int(month) - 1] + 1)]\r\n",
    "        for day in tqdm(days_list, desc='day: '):\r\n",
    "            df_gps = load_gps_data(gps_data_dir, [day], [month], [year])\r\n",
    "            find_travel_time = FindTravelTime(df_gps)\r\n",
    "            \r\n",
    "            for road in roads_list:\r\n",
    "                find_travel_time.set_road(road)\r\n",
    "                df_start_stop, df_stop_start = find_travel_time.find_travel_time_select_hour(1)\r\n",
    "                data_dict[f\"{road}_start_stop\"].append(df_start_stop)\r\n",
    "                data_dict[f\"{road}_stop_start\"].append(df_stop_start)\r\n",
    "\r\n",
    "                # clear data in memory\r\n",
    "                del df_start_stop\r\n",
    "                del df_stop_start\r\n",
    "\r\n",
    "            amount_day += 1\r\n",
    "\r\n",
    "            # check amount of days that you want\r\n",
    "            if amount_day >= day_load:\r\n",
    "                for key, values in data_dict.items():\r\n",
    "                    # print(f\"save data {day}/{month}/{year} => {key}.csv\")\r\n",
    "                    road_id = key.split('_')[0]\r\n",
    "                    df_save = pd.concat(values, axis='rows', ignore_index=True)   \r\n",
    "                    if 'start_stop' in key:\r\n",
    "                        df_save.to_csv(os.path.join(save_path[0], f\"{road_id}/{month}_{day}_{year}.csv\"), index=False)\r\n",
    "                    else:\r\n",
    "                        df_save.to_csv(os.path.join(save_path[1], f\"{road_id}/{month}_{day}_{year}.csv\"), index=False)\r\n",
    "                    del df_save\r\n",
    "\r\n",
    "                data_dict = init_data_dict(roads_list)\r\n",
    "                amount_day = 0\r\n",
    "\r\n",
    "            # clear data in memory\r\n",
    "            del df_gps\r\n",
    "            del find_travel_time\r\n",
    "\r\n",
    "        if amount_day != 0:\r\n",
    "            print(f\"save the rest of the data!!\")\r\n",
    "            for key, values in data_dict.items():\r\n",
    "                # print(f\"save data {day}/{month}/{year} => {key}.csv\")\r\n",
    "                road_id = key.split('_')[0]\r\n",
    "                df_save = pd.concat(values, axis='rows', ignore_index=True)   \r\n",
    "                if 'start_stop' in key:\r\n",
    "                    df_save.to_csv(os.path.join(save_path[0], f\"{road_id}/{month}_{day}_{year}.csv\"), index=False)\r\n",
    "                else:\r\n",
    "                    df_save.to_csv(os.path.join(save_path[1], f\"{road_id}/{month}_{day}_{year}.csv\"), index=False)\r\n",
    "                del df_save\r\n",
    "            \r\n",
    "            data_dict = init_data_dict(roads_list)\r\n",
    "            amount_day = 0\r\n",
    "        \r\n",
    "    print(f\"=====> Create dataset complete. <=====\")"
   ],
   "outputs": [],
   "metadata": {}
  },
  {
   "cell_type": "code",
   "execution_count": 6,
   "source": [
    "create_travel_time(gps_data_dir, save_path, 5, 8)"
   ],
   "outputs": [
    {
     "output_type": "stream",
     "name": "stdout",
     "text": [
      "============= [month 05] =============\n"
     ]
    },
    {
     "output_type": "stream",
     "name": "stderr",
     "text": [
      "day: 100%|██████████| 31/31 [51:17<00:00, 99.28s/it] \n"
     ]
    },
    {
     "output_type": "stream",
     "name": "stdout",
     "text": [
      "============= [month 06] =============\n"
     ]
    },
    {
     "output_type": "stream",
     "name": "stderr",
     "text": [
      "day: 100%|██████████| 30/30 [58:15<00:00, 116.51s/it]\n"
     ]
    },
    {
     "output_type": "stream",
     "name": "stdout",
     "text": [
      "============= [month 07] =============\n"
     ]
    },
    {
     "output_type": "stream",
     "name": "stderr",
     "text": [
      "day: 100%|██████████| 31/31 [51:30<00:00, 99.68s/it]\n"
     ]
    },
    {
     "output_type": "stream",
     "name": "stdout",
     "text": [
      "============= [month 08] =============\n"
     ]
    },
    {
     "output_type": "stream",
     "name": "stderr",
     "text": [
      "day: 100%|██████████| 31/31 [49:58<00:00, 96.73s/it] "
     ]
    },
    {
     "output_type": "stream",
     "name": "stdout",
     "text": [
      "========> Create dataset complete <========\n"
     ]
    },
    {
     "output_type": "stream",
     "name": "stderr",
     "text": [
      "\n"
     ]
    }
   ],
   "metadata": {}
  }
 ],
 "metadata": {
  "orig_nbformat": 4,
  "language_info": {
   "name": "python",
   "version": "3.7.11",
   "mimetype": "text/x-python",
   "codemirror_mode": {
    "name": "ipython",
    "version": 3
   },
   "pygments_lexer": "ipython3",
   "nbconvert_exporter": "python",
   "file_extension": ".py"
  },
  "kernelspec": {
   "name": "python3",
   "display_name": "Python 3.7.11 64-bit ('travel-time': conda)"
  },
  "interpreter": {
   "hash": "04d543e0e8e8528b063992bec98d43cf6e129cdbff59fe1bf1811a8862f8b7d0"
  }
 },
 "nbformat": 4,
 "nbformat_minor": 2
}