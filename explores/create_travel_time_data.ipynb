{
 "cells": [
  {
   "cell_type": "code",
   "execution_count": 1,
   "metadata": {},
   "outputs": [],
   "source": [
    "import os\n",
    "import pandas as pd\n",
    "\n",
    "from tqdm.auto import tqdm\n",
    "from utils.utils import load_gps_data\n",
    "from utils.find_travel_time import FindTravelTime"
   ]
  },
  {
   "cell_type": "code",
   "execution_count": 2,
   "metadata": {},
   "outputs": [],
   "source": [
    "import warnings\n",
    "warnings.filterwarnings(\"ignore\")"
   ]
  },
  {
   "cell_type": "code",
   "execution_count": 3,
   "metadata": {},
   "outputs": [],
   "source": [
    "gps_data_dir = 'E:/data/gps'\n",
    "save_path = ['E:/data/start_stop', 'E:/data/stop_start'] # change for your directory to save start_stop and stop_start datafrfame"
   ]
  },
  {
   "cell_type": "code",
   "execution_count": 4,
   "metadata": {},
   "outputs": [],
   "source": [
    "def init_data_dict(roads_list):\n",
    "    data_dict = {}\n",
    "    for road in roads_list:\n",
    "        data_dict[f\"{road}_start_stop\"] = []\n",
    "        data_dict[f\"{road}_stop_start\"] = []\n",
    "\n",
    "    return data_dict\n",
    "\n",
    "def init_save_directory(save_path, roads_list):\n",
    "    if not os.path.exists(os.path.join(save_path[0])):\n",
    "        os.mkdir(save_path[0])\n",
    "    if not os.path.exists(os.path.join(save_path[1])):\n",
    "        os.mkdir(save_path[1])\n",
    "\n",
    "    for road in roads_list:\n",
    "        if not os.path.exists(os.path.join(save_path[0], f\"{road}\")):\n",
    "            os.mkdir(os.path.join(save_path[0], f\"{road}\"))\n",
    "        if not os.path.exists(os.path.join(save_path[1], f\"{road}\")):\n",
    "            os.mkdir(os.path.join(save_path[1], f\"{road}\"))\n",
    "\n",
    "def create_travel_time(gps_data_dir, save_path, month_start, month_stop, day_load=1):\n",
    "    # init for load gps data function\n",
    "    year = '2019'\n",
    "    roads_list = [1, 2, 4, 7, 9, 32, 35, 41, 304, 331]\n",
    "    days_count_list = [31, 28, 31, 30, 31, 30, 31, 31, 30, 31, 30, 31]\n",
    "    months_list = [f\"{i:02d}\" for i in range(month_start, month_stop + 1)]\n",
    "    \n",
    "    # init for this function\n",
    "    amount_day = 0\n",
    "    \n",
    "    # init data dict for save dataframe\n",
    "    data_dict = init_data_dict(roads_list)\n",
    "    init_save_directory(save_path, roads_list)\n",
    "    \n",
    "    for month in months_list:\n",
    "        print(f\"============= [month {month}] =============\")\n",
    "        days_list = [f\"{i:02d}\" for i in range(1, days_count_list[int(month) - 1] + 1)]\n",
    "        for day in tqdm(days_list, desc='day: '):\n",
    "            df_gps = load_gps_data(gps_data_dir, [day], [month], [year])\n",
    "            find_travel_time = FindTravelTime(df_gps)\n",
    "            \n",
    "            for road in roads_list:\n",
    "                find_travel_time.set_road(road)\n",
    "                df_start_stop, df_stop_start = find_travel_time.find_travel_time_select_hour(1)\n",
    "                data_dict[f\"{road}_start_stop\"].append(df_start_stop)\n",
    "                data_dict[f\"{road}_stop_start\"].append(df_stop_start)\n",
    "\n",
    "                # clear data in memory\n",
    "                del df_start_stop\n",
    "                del df_stop_start\n",
    "\n",
    "            amount_day += 1\n",
    "\n",
    "            # check amount of days that you want\n",
    "            if amount_day >= day_load:\n",
    "                for key, values in data_dict.items():\n",
    "                    # print(f\"save data {day}/{month}/{year} => {key}.csv\")\n",
    "                    road_id = key.split('_')[0]\n",
    "                    df_save = pd.concat(values, axis='rows', ignore_index=True)   \n",
    "                    if 'start_stop' in key:\n",
    "                        df_save.to_csv(os.path.join(save_path[0], f\"{road_id}/{month}_{day}_{year}.csv\"), index=False)\n",
    "                    else:\n",
    "                        df_save.to_csv(os.path.join(save_path[1], f\"{road_id}/{month}_{day}_{year}.csv\"), index=False)\n",
    "                    del df_save\n",
    "\n",
    "                data_dict = init_data_dict(roads_list)\n",
    "                amount_day = 0\n",
    "\n",
    "            # clear data in memory\n",
    "            del df_gps\n",
    "            del find_travel_time\n",
    "\n",
    "        if amount_day != 0:\n",
    "            print(f\"save the rest of the data!!\")\n",
    "            for key, values in data_dict.items():\n",
    "                # print(f\"save data {day}/{month}/{year} => {key}.csv\")\n",
    "                road_id = key.split('_')[0]\n",
    "                df_save = pd.concat(values, axis='rows', ignore_index=True)   \n",
    "                if 'start_stop' in key:\n",
    "                    df_save.to_csv(os.path.join(save_path[0], f\"{road_id}/{month}_{day}_{year}.csv\"), index=False)\n",
    "                else:\n",
    "                    df_save.to_csv(os.path.join(save_path[1], f\"{road_id}/{month}_{day}_{year}.csv\"), index=False)\n",
    "                del df_save\n",
    "            \n",
    "            data_dict = init_data_dict(roads_list)\n",
    "            amount_day = 0\n",
    "        \n",
    "    print(f\"=====> Create dataset complete. <=====\")"
   ]
  },
  {
   "cell_type": "code",
   "execution_count": 6,
   "metadata": {},
   "outputs": [
    {
     "name": "stdout",
     "output_type": "stream",
     "text": [
      "============= [month 05] =============\n"
     ]
    },
    {
     "name": "stderr",
     "output_type": "stream",
     "text": [
      "day: 100%|██████████| 31/31 [51:17<00:00, 99.28s/it] \n"
     ]
    },
    {
     "name": "stdout",
     "output_type": "stream",
     "text": [
      "============= [month 06] =============\n"
     ]
    },
    {
     "name": "stderr",
     "output_type": "stream",
     "text": [
      "day: 100%|██████████| 30/30 [58:15<00:00, 116.51s/it]\n"
     ]
    },
    {
     "name": "stdout",
     "output_type": "stream",
     "text": [
      "============= [month 07] =============\n"
     ]
    },
    {
     "name": "stderr",
     "output_type": "stream",
     "text": [
      "day: 100%|██████████| 31/31 [51:30<00:00, 99.68s/it]\n"
     ]
    },
    {
     "name": "stdout",
     "output_type": "stream",
     "text": [
      "============= [month 08] =============\n"
     ]
    },
    {
     "name": "stderr",
     "output_type": "stream",
     "text": [
      "day: 100%|██████████| 31/31 [49:58<00:00, 96.73s/it] "
     ]
    },
    {
     "name": "stdout",
     "output_type": "stream",
     "text": [
      "========> Create dataset complete <========\n"
     ]
    },
    {
     "name": "stderr",
     "output_type": "stream",
     "text": [
      "\n"
     ]
    }
   ],
   "source": [
    "create_travel_time(gps_data_dir, save_path, 5, 8)"
   ]
  }
 ],
 "metadata": {
  "interpreter": {
   "hash": "07efdcd4b820c98a756949507a4d29d7862823915ec7477944641bea022f4f62"
  },
  "kernelspec": {
   "display_name": "Python 3.8.8 64-bit ('base': conda)",
   "name": "python3"
  },
  "language_info": {
   "codemirror_mode": {
    "name": "ipython",
    "version": 3
   },
   "file_extension": ".py",
   "mimetype": "text/x-python",
   "name": "python",
   "nbconvert_exporter": "python",
   "pygments_lexer": "ipython3",
   "version": "3.7.11"
  },
  "orig_nbformat": 4
 },
 "nbformat": 4,
 "nbformat_minor": 2
}
