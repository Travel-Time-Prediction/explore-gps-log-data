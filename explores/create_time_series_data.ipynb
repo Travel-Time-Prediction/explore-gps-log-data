{
 "cells": [
  {
   "cell_type": "code",
   "execution_count": 8,
   "source": [
    "import os\r\n",
    "import re\r\n",
    "import pandas as pd"
   ],
   "outputs": [],
   "metadata": {}
  },
  {
   "cell_type": "code",
   "execution_count": 9,
   "source": [
    "import warnings\r\n",
    "warnings.filterwarnings(\"ignore\")"
   ],
   "outputs": [],
   "metadata": {}
  },
  {
   "cell_type": "code",
   "execution_count": 13,
   "source": [
    "travel_time_dir = ['E:/data/travel_time/start_stop', 'E:/data/travel_time/stop_start']\r\n",
    "save_path = 'E:/data/time_series/'"
   ],
   "outputs": [],
   "metadata": {}
  },
  {
   "cell_type": "code",
   "execution_count": 11,
   "source": [
    "def init_save_directory(save_path):\r\n",
    "    if not os.path.exists(os.path.join(save_path)):\r\n",
    "        os.mkdir(save_path)\r\n",
    "    if not os.path.exists(os.path.join(save_path, 'start_stop')):\r\n",
    "        os.mkdir(save_path + '/start_stop/')\r\n",
    "    if not os.path.exists(os.path.join(save_path, 'stop_start')):\r\n",
    "        os.mkdir(save_path + '/stop_start/')\r\n",
    "\r\n",
    "    return [save_path + '/start_stop/', save_path + '/stop_start/']\r\n",
    "\r\n",
    "def create_time_series(travel_time_dir, save_path):\r\n",
    "    file_error_path_list = []\r\n",
    "\r\n",
    "    # init directory for save time series\r\n",
    "    save_dir = init_save_directory(save_path)\r\n",
    "    \r\n",
    "    for idx in range(2):\r\n",
    "        for road_dir in os.listdir(travel_time_dir[idx]):\r\n",
    "            file_names = os.listdir(travel_time_dir[idx] + f\"/{road_dir}/\")\r\n",
    "            df_list = []\r\n",
    "            for file_name in file_names:\r\n",
    "                datetime = re.split(\"_|[.]\", file_name)[:3]\r\n",
    "                try:\r\n",
    "                    df_travel = pd.read_csv(travel_time_dir[idx] + f\"/{road_dir}/\" + file_name)\r\n",
    "                except:\r\n",
    "                    file_error_path_list.append(f\"{travel_time_dir[idx]}/{road_dir}/{file_name}\\n\")\r\n",
    "                    continue\r\n",
    "                _tmp = {\r\n",
    "                    'datetime': (pd.to_datetime(f\"{datetime[2]}-{datetime[0]}-{datetime[1]}\") + pd.to_timedelta(list(set(df_travel['time_range'])), unit='h')).to_list(),\r\n",
    "                    'delta_t': df_travel[['time_range', 'delta_t']].groupby(['time_range']).mean()['delta_t'].to_list(),\r\n",
    "                    'day_of_week': pd.to_datetime(f\"{datetime[2]}-{datetime[0]}-{datetime[1]}\").dayofweek\r\n",
    "                }\r\n",
    "                df_list.append(pd.DataFrame(_tmp))\r\n",
    "\r\n",
    "                # remove data in memory\r\n",
    "                del df_travel\r\n",
    "                del _tmp\r\n",
    "\r\n",
    "            df = pd.concat(df_list, axis='rows', ignore_index=True)\r\n",
    "            df.to_csv(os.path.join(save_dir[idx], f\"{road_dir}.csv\"), index=False)\r\n",
    "\r\n",
    "            # remove data in memory\r\n",
    "            del df_list\r\n",
    "            del df\r\n",
    "\r\n",
    "    print(f\"create time series complete.\")\r\n",
    "    print(f\"save list of file error(no data in file) in file error.txt\")\r\n",
    "    # save error list to file\r\n",
    "    f = open('E:/data/error.txt', 'w')\r\n",
    "    f.writelines(file_error_path_list)\r\n",
    "        "
   ],
   "outputs": [],
   "metadata": {}
  },
  {
   "cell_type": "code",
   "execution_count": 14,
   "source": [
    "create_time_series(travel_time_dir, save_path)"
   ],
   "outputs": [
    {
     "output_type": "stream",
     "name": "stdout",
     "text": [
      "create time series complete.\n",
      "save list of file error(no data in file) in file error.txt\n"
     ]
    }
   ],
   "metadata": {}
  }
 ],
 "metadata": {
  "orig_nbformat": 4,
  "language_info": {
   "name": "python",
   "version": "3.7.11",
   "mimetype": "text/x-python",
   "codemirror_mode": {
    "name": "ipython",
    "version": 3
   },
   "pygments_lexer": "ipython3",
   "nbconvert_exporter": "python",
   "file_extension": ".py"
  },
  "kernelspec": {
   "name": "python3",
   "display_name": "Python 3.7.11 64-bit ('travel-time': conda)"
  },
  "interpreter": {
   "hash": "04d543e0e8e8528b063992bec98d43cf6e129cdbff59fe1bf1811a8862f8b7d0"
  }
 },
 "nbformat": 4,
 "nbformat_minor": 2
}