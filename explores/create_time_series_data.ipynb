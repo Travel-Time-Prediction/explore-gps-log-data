{
 "cells": [
  {
   "cell_type": "code",
   "execution_count": 1,
   "metadata": {},
   "outputs": [],
   "source": [
    "import os\n",
    "import re\n",
    "import pandas as pd"
   ]
  },
  {
   "cell_type": "code",
   "execution_count": 2,
   "metadata": {},
   "outputs": [],
   "source": [
    "import warnings\n",
    "warnings.filterwarnings(\"ignore\")"
   ]
  },
  {
   "cell_type": "code",
   "execution_count": 3,
   "metadata": {},
   "outputs": [],
   "source": [
    "travel_time_dir = ['D:/Travel Time Prediction/truck 2019 data']\n",
    "save_path = 'D:/Travel Time Prediction/truck 2019 3hr split'"
   ]
  },
  {
   "cell_type": "code",
   "execution_count": 4,
   "metadata": {},
   "outputs": [],
   "source": [
    "def init_save_directory(save_path):\n",
    "    if not os.path.exists(os.path.join(save_path)):\n",
    "        os.mkdir(save_path)\n",
    "    if not os.path.exists(os.path.join(save_path, 'start_stop')):\n",
    "        os.mkdir(save_path + '/start_stop/')\n",
    "    if not os.path.exists(os.path.join(save_path, 'stop_start')):\n",
    "        os.mkdir(save_path + '/stop_start/')\n",
    "\n",
    "    return [save_path + '/start_stop/', save_path + '/stop_start/']\n",
    "\n",
    "def create_time_series(travel_time_dir, save_path):\n",
    "    file_error_path_list = []\n",
    "\n",
    "    # init directory for save time series\n",
    "    save_dir = init_save_directory(save_path)\n",
    "    \n",
    "    for idx in range(2):\n",
    "        for road_dir in os.listdir(travel_time_dir[idx]):\n",
    "            file_names = os.listdir(travel_time_dir[idx] + f\"/{road_dir}/\")\n",
    "            df_list = []\n",
    "            for file_name in file_names:\n",
    "                datetime = re.split(\"_|[.]\", file_name)[:3]\n",
    "                try:\n",
    "                    df_travel = pd.read_csv(travel_time_dir[idx] + f\"/{road_dir}/\" + file_name)\n",
    "                except:\n",
    "                    file_error_path_list.append(f\"{travel_time_dir[idx]}/{road_dir}/{file_name}\\n\")\n",
    "                    continue\n",
    "                _tmp = {\n",
    "                    'datetime': (pd.to_datetime(f\"{datetime[2]}-{datetime[0]}-{datetime[1]}\") + pd.to_timedelta(list(set(df_travel['time_range'])), unit='h')).to_list(),\n",
    "                    'delta_t': df_travel[['time_range', 'delta_t']].groupby(['time_range']).mean()['delta_t'].to_list(),\n",
    "                    'day_of_week': pd.to_datetime(f\"{datetime[2]}-{datetime[0]}-{datetime[1]}\").dayofweek,\n",
    "                }\n",
    "                df_list.append(pd.DataFrame(_tmp))\n",
    "\n",
    "                # remove data in memory\n",
    "                del df_travel\n",
    "                del _tmp\n",
    "\n",
    "            df = pd.concat(df_list, axis='rows', ignore_index=True)\n",
    "            df.to_csv(os.path.join(save_dir[idx], f\"{road_dir}.csv\"), index=False)\n",
    "\n",
    "            # remove data in memory\n",
    "            del df_list\n",
    "            del df\n",
    "\n",
    "    print(f\"create time series complete.\")\n",
    "    print(f\"save list of file error(no data in file) in file error.txt\")\n",
    "    # save error list to file\n",
    "    f = open('E:/data/error.txt', 'w')\n",
    "    f.writelines(file_error_path_list)\n",
    "        "
   ]
  },
  {
   "cell_type": "code",
   "execution_count": 28,
   "metadata": {},
   "outputs": [
    {
     "data": {
      "text/plain": [
       "Timedelta('0 days 03:00:00')"
      ]
     },
     "execution_count": 28,
     "metadata": {},
     "output_type": "execute_result"
    }
   ],
   "source": [
    "pd.to_timedelta(3, unit='h')"
   ]
  },
  {
   "cell_type": "code",
   "execution_count": 11,
   "metadata": {},
   "outputs": [],
   "source": [
    "def create_time_series_split_3hr(travel_time_dir, save_path):\n",
    "    file_error_path_list = []\n",
    "\n",
    "    # init directory for save time series\n",
    "    save_dir = init_save_directory(save_path)\n",
    "    \n",
    "    for idx in range(1):\n",
    "        for road_dir in os.listdir(travel_time_dir[idx]):\n",
    "            file_names = os.listdir(travel_time_dir[idx] + f\"/{road_dir}/\")\n",
    "            df_list = []\n",
    "            for file_name in file_names:\n",
    "                datetime = re.split(\"_|[.]\", file_name)[:3]\n",
    "                try:\n",
    "                    df_travel = pd.read_csv(travel_time_dir[idx] + f\"/{road_dir}/\" + file_name)\n",
    "                except:\n",
    "                    file_error_path_list.append(f\"{travel_time_dir[idx]}/{road_dir}/{file_name}\\n\")\n",
    "                    continue\n",
    "                dt = []\n",
    "                delta_t = []\n",
    "                dow = []\n",
    "                num_truck = []\n",
    "                standard = []\n",
    "                for i in range(0,21,3):\n",
    "\n",
    "                   \n",
    "                    dt.append((pd.to_datetime(f\"{datetime[2]}-{datetime[0]}-{datetime[1]}\") + pd.to_timedelta(i, unit='h')))\n",
    "                    delta_t.append(df_travel[(df_travel[\"time_range\"] >= i) & (df_travel[\"time_range\"] < i+3) ][\"delta_t\"].mean())\n",
    "                    dow.append(pd.to_datetime(f\"{datetime[2]}-{datetime[0]}-{datetime[1]}\").day_name()  )\n",
    "                    num_truck.append(len(df_travel[(df_travel[\"time_range\"] >= i) & (df_travel[\"time_range\"] < i+3) ]))\n",
    "                    standard.append(df_travel[(df_travel[\"time_range\"] >= i) & (df_travel[\"time_range\"] < i+3) ][\"delta_t\"].std())\n",
    "\n",
    "                _tmp = {\n",
    "                    'datetime': dt,\n",
    "                    'delta_t': delta_t,  \n",
    "                    'day_of_week': dow,\n",
    "                    'number_of_truck' : num_truck,\n",
    "                    'std': standard}\n",
    "                df_list.append(pd.DataFrame(_tmp))\n",
    "\n",
    "                # remove data in memory\n",
    "                del df_travel\n",
    "                del _tmp\n",
    "\n",
    "            df = pd.concat(df_list, axis='rows', ignore_index=True)\n",
    "            df.to_csv(os.path.join(save_dir[idx], f\"{road_dir}.csv\"), index=False)\n",
    "\n",
    "            # remove data in memory\n",
    "            del df_list\n",
    "            del df\n",
    "\n",
    "    print(f\"create time series complete.\")\n",
    "    print(f\"save list of file error(no data in file) in file error.txt\")\n",
    "    # save error list to file\n",
    "    f = open('D:/Travel Time Prediction/error3.txt', 'w')\n",
    "    f.writelines(file_error_path_list)\n",
    "        "
   ]
  },
  {
   "cell_type": "code",
   "execution_count": 12,
   "metadata": {},
   "outputs": [
    {
     "name": "stdout",
     "output_type": "stream",
     "text": [
      "create time series complete.\n",
      "save list of file error(no data in file) in file error.txt\n"
     ]
    }
   ],
   "source": [
    "create_time_series_split_3hr(travel_time_dir, save_path)"
   ]
  }
 ],
 "metadata": {
  "interpreter": {
   "hash": "04d543e0e8e8528b063992bec98d43cf6e129cdbff59fe1bf1811a8862f8b7d0"
  },
  "kernelspec": {
   "display_name": "Python 3.7.11 64-bit ('travel-time': conda)",
   "name": "python3"
  },
  "language_info": {
   "codemirror_mode": {
    "name": "ipython",
    "version": 3
   },
   "file_extension": ".py",
   "mimetype": "text/x-python",
   "name": "python",
   "nbconvert_exporter": "python",
   "pygments_lexer": "ipython3",
   "version": "3.8.8"
  },
  "orig_nbformat": 4
 },
 "nbformat": 4,
 "nbformat_minor": 2
}
